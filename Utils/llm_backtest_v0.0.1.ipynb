{
 "cells": [
  {
   "cell_type": "code",
   "execution_count": null,
   "id": "a04451d5",
   "metadata": {},
   "outputs": [],
   "source": [
    "# Load and preprocess data\n",
    "data = load_stock_data(\"AAPL\")\n",
    "list_of_data = [bt.feeds.PandasData(dataname=data, datetime=\"Date\", timeframe=bt.TimeFrame.Minutes)]\n",
    "\n",
    "# Define prompt and system message\n",
    "prompt = \"Please create a strategy that buy when RSI is below 50 and sell when RSI is above 80.\"\n",
    "system = f\"\"\"\n",
    "You are a python developer that intends to make a workable strategy from human requirements.\n",
    "Your task is to create a new BackTestStrategy that follows the below msg.\n",
    "Note: Only return class strategy and change `execute` function only, nothing else\n",
    "\n",
    "{prompt}\n",
    "\"\"\"\n",
    "\n",
    "# Generate and run the strategy\n",
    "code_script = python_code_generate(system, list_of_data)\n",
    "exec(code_script)\n",
    "\n",
    "# Initialize cerebro and run the strategy\n",
    "cerebro = run_cerebro(BackTestStrategy, list_of_data)\n",
    "thestrat = cerebro[0]\n",
    "\n",
    "# Print out the final result\n",
    "print(\"Final Portfolio Value: %.2f\" % cerebro.broker.getvalue())\n",
    "print(\"Total point return:\", cerebro.broker.getvalue() - cerebro.broker.startingcash)\n",
    "\n",
    "figs = cerebro.plot(iplot=False, style=\"pincandle\", width=600, height=400)"
   ]
  },
  {
   "cell_type": "code",
   "execution_count": 1,
   "id": "c8714f0b",
   "metadata": {},
   "outputs": [
    {
     "name": "stdout",
     "output_type": "stream",
     "text": [
      "Requirement already satisfied: backtrader in c:\\users\\hp\\anaconda3\\lib\\site-packages (1.9.78.123)\n",
      "Requirement already satisfied: groq in c:\\users\\hp\\anaconda3\\lib\\site-packages (0.5.0)\n",
      "Requirement already satisfied: anyio<5,>=3.5.0 in c:\\users\\hp\\anaconda3\\lib\\site-packages (from groq) (3.5.0)\n",
      "Requirement already satisfied: distro<2,>=1.7.0 in c:\\users\\hp\\anaconda3\\lib\\site-packages (from groq) (1.9.0)\n",
      "Requirement already satisfied: httpx<1,>=0.23.0 in c:\\users\\hp\\anaconda3\\lib\\site-packages (from groq) (0.27.0)\n",
      "Requirement already satisfied: pydantic<3,>=1.9.0 in c:\\users\\hp\\anaconda3\\lib\\site-packages (from groq) (1.10.8)\n",
      "Requirement already satisfied: sniffio in c:\\users\\hp\\anaconda3\\lib\\site-packages (from groq) (1.2.0)\n",
      "Requirement already satisfied: typing-extensions<5,>=4.7 in c:\\users\\hp\\anaconda3\\lib\\site-packages (from groq) (4.11.0)\n",
      "Requirement already satisfied: idna>=2.8 in c:\\users\\hp\\anaconda3\\lib\\site-packages (from anyio<5,>=3.5.0->groq) (3.4)\n",
      "Requirement already satisfied: certifi in c:\\users\\hp\\anaconda3\\lib\\site-packages (from httpx<1,>=0.23.0->groq) (2024.2.2)\n",
      "Requirement already satisfied: httpcore==1.* in c:\\users\\hp\\anaconda3\\lib\\site-packages (from httpx<1,>=0.23.0->groq) (1.0.4)\n",
      "Requirement already satisfied: h11<0.15,>=0.13 in c:\\users\\hp\\anaconda3\\lib\\site-packages (from httpcore==1.*->httpx<1,>=0.23.0->groq) (0.14.0)\n",
      "Collecting constant\n",
      "  Downloading constant-0.0.4.zip (63 kB)\n",
      "     ---------------------------------------- 0.0/63.5 kB ? eta -:--:--\n",
      "     ------------ ------------------------- 20.5/63.5 kB 682.7 kB/s eta 0:00:01\n",
      "     ------------------------------ ------- 51.2/63.5 kB 660.6 kB/s eta 0:00:01\n",
      "     -------------------------------------- 63.5/63.5 kB 682.2 kB/s eta 0:00:00\n",
      "  Preparing metadata (setup.py): started\n",
      "  Preparing metadata (setup.py): finished with status 'done'\n",
      "Requirement already satisfied: influxdb_client in c:\\users\\hp\\anaconda3\\lib\\site-packages (1.42.0)\n",
      "Requirement already satisfied: jinja2 in c:\\users\\hp\\anaconda3\\lib\\site-packages (from constant) (3.1.2)\n",
      "Requirement already satisfied: reactivex>=4.0.4 in c:\\users\\hp\\anaconda3\\lib\\site-packages (from influxdb_client) (4.0.4)\n",
      "Requirement already satisfied: certifi>=14.05.14 in c:\\users\\hp\\anaconda3\\lib\\site-packages (from influxdb_client) (2024.2.2)\n",
      "Requirement already satisfied: python-dateutil>=2.5.3 in c:\\users\\hp\\appdata\\roaming\\python\\python311\\site-packages (from influxdb_client) (2.8.2)\n",
      "Requirement already satisfied: setuptools>=21.0.0 in c:\\users\\hp\\anaconda3\\lib\\site-packages (from influxdb_client) (68.0.0)\n",
      "Requirement already satisfied: urllib3>=1.26.0 in c:\\users\\hp\\anaconda3\\lib\\site-packages (from influxdb_client) (2.2.1)\n",
      "Requirement already satisfied: six>=1.5 in c:\\users\\hp\\appdata\\roaming\\python\\python311\\site-packages (from python-dateutil>=2.5.3->influxdb_client) (1.16.0)\n",
      "Requirement already satisfied: typing-extensions<5.0.0,>=4.1.1 in c:\\users\\hp\\anaconda3\\lib\\site-packages (from reactivex>=4.0.4->influxdb_client) (4.11.0)\n",
      "Requirement already satisfied: MarkupSafe>=2.0 in c:\\users\\hp\\anaconda3\\lib\\site-packages (from jinja2->constant) (2.1.1)\n",
      "Building wheels for collected packages: constant\n",
      "  Building wheel for constant (setup.py): started\n",
      "  Building wheel for constant (setup.py): finished with status 'done'\n",
      "  Created wheel for constant: filename=constant-0.0.4-py3-none-any.whl size=82353 sha256=5e7849ddb1c5a40e2af595a5981e2d160f90050ada8b902d7d720ee7de824935\n",
      "  Stored in directory: c:\\users\\hp\\appdata\\local\\pip\\cache\\wheels\\80\\e3\\27\\938579a2acd36af224164c8618a465fca8a8d5118c1208b90a\n",
      "Successfully built constant\n",
      "Installing collected packages: constant\n",
      "Successfully installed constant-0.0.4\n",
      "Requirement already satisfied: yfinance in c:\\users\\hp\\anaconda3\\lib\\site-packages (0.2.38)\n",
      "Requirement already satisfied: pandas>=1.3.0 in c:\\users\\hp\\anaconda3\\lib\\site-packages (from yfinance) (2.0.3)\n",
      "Requirement already satisfied: numpy>=1.16.5 in c:\\users\\hp\\anaconda3\\lib\\site-packages (from yfinance) (1.24.3)\n",
      "Requirement already satisfied: requests>=2.31 in c:\\users\\hp\\anaconda3\\lib\\site-packages (from yfinance) (2.31.0)\n",
      "Requirement already satisfied: multitasking>=0.0.7 in c:\\users\\hp\\anaconda3\\lib\\site-packages (from yfinance) (0.0.11)\n",
      "Requirement already satisfied: lxml>=4.9.1 in c:\\users\\hp\\anaconda3\\lib\\site-packages (from yfinance) (4.9.3)\n",
      "Requirement already satisfied: appdirs>=1.4.4 in c:\\users\\hp\\anaconda3\\lib\\site-packages (from yfinance) (1.4.4)\n",
      "Requirement already satisfied: pytz>=2022.5 in c:\\users\\hp\\anaconda3\\lib\\site-packages (from yfinance) (2023.3.post1)\n",
      "Requirement already satisfied: frozendict>=2.3.4 in c:\\users\\hp\\anaconda3\\lib\\site-packages (from yfinance) (2.4.4)\n",
      "Requirement already satisfied: peewee>=3.16.2 in c:\\users\\hp\\anaconda3\\lib\\site-packages (from yfinance) (3.17.5)\n",
      "Requirement already satisfied: beautifulsoup4>=4.11.1 in c:\\users\\hp\\anaconda3\\lib\\site-packages (from yfinance) (4.12.2)\n",
      "Requirement already satisfied: html5lib>=1.1 in c:\\users\\hp\\anaconda3\\lib\\site-packages (from yfinance) (1.1)\n",
      "Requirement already satisfied: soupsieve>1.2 in c:\\users\\hp\\anaconda3\\lib\\site-packages (from beautifulsoup4>=4.11.1->yfinance) (2.4)\n",
      "Requirement already satisfied: six>=1.9 in c:\\users\\hp\\appdata\\roaming\\python\\python311\\site-packages (from html5lib>=1.1->yfinance) (1.16.0)\n",
      "Requirement already satisfied: webencodings in c:\\users\\hp\\anaconda3\\lib\\site-packages (from html5lib>=1.1->yfinance) (0.5.1)\n",
      "Requirement already satisfied: python-dateutil>=2.8.2 in c:\\users\\hp\\appdata\\roaming\\python\\python311\\site-packages (from pandas>=1.3.0->yfinance) (2.8.2)\n",
      "Requirement already satisfied: tzdata>=2022.1 in c:\\users\\hp\\anaconda3\\lib\\site-packages (from pandas>=1.3.0->yfinance) (2023.3)\n",
      "Requirement already satisfied: charset-normalizer<4,>=2 in c:\\users\\hp\\anaconda3\\lib\\site-packages (from requests>=2.31->yfinance) (2.0.4)\n",
      "Requirement already satisfied: idna<4,>=2.5 in c:\\users\\hp\\anaconda3\\lib\\site-packages (from requests>=2.31->yfinance) (3.4)\n",
      "Requirement already satisfied: urllib3<3,>=1.21.1 in c:\\users\\hp\\anaconda3\\lib\\site-packages (from requests>=2.31->yfinance) (2.2.1)\n",
      "Requirement already satisfied: certifi>=2017.4.17 in c:\\users\\hp\\anaconda3\\lib\\site-packages (from requests>=2.31->yfinance) (2024.2.2)\n"
     ]
    }
   ],
   "source": [
    "!pip install backtrader groq \n",
    "!pip install constant influxdb_client \n",
    "# !pip install database_utils\n",
    "!pip install yfinance"
   ]
  },
  {
   "cell_type": "code",
   "execution_count": 2,
   "id": "16416cab-b0c8-44df-b5fd-5d35d9c7fc48",
   "metadata": {
    "tags": []
   },
   "outputs": [],
   "source": [
    "from __future__ import absolute_import, division, print_function, unicode_literals\n",
    "import matplotlib\n",
    "\n",
    "%matplotlib inline\n",
    "from pprint import pprint\n",
    "from groq import Groq\n",
    "import os\n",
    "# from database_utils.query_data import get_ohlc_data\n",
    "\n",
    "# from constant import init_cerebro_object\n",
    "from base_strategy import *\n",
    "\n",
    "import pandas as pd\n",
    "import influxdb_client\n",
    "from influxdb_client import QueryApi\n",
    "# from database_utils.query_data import get_ohlc_data, get_order_flow\n",
    "import backtrader.strategies as btstrats\n",
    "\n",
    "token = \"mytoken\"\n",
    "org = \"myorg\"\n",
    "url = \"http://localhost:8088\"\n",
    "bucket = \"VPS-Stock\"\n",
    "\n",
    "\n",
    "GROQ_API_KEY= \"\"\n",
    "client = influxdb_client.InfluxDBClient(url=url, token=token, org=org)\n",
    "read_api = client.query_api()\n",
    "client = Groq(api_key=GROQ_API_KEY)"
   ]
  },
  {
   "cell_type": "code",
   "execution_count": 3,
   "id": "4e5cc636-5777-4ced-95f7-8dd177d305d4",
   "metadata": {
    "tags": []
   },
   "outputs": [],
   "source": [
    "def get_code_from_text(text):\n",
    "    code_segement = text.split(\"```\")[1]\n",
    "    if \"```python\" in text:\n",
    "        code_segement = code_segement[6:]\n",
    "    return code_segement.strip()"
   ]
  },
  {
   "cell_type": "code",
   "execution_count": 4,
   "id": "f3271b51",
   "metadata": {},
   "outputs": [
    {
     "name": "stderr",
     "output_type": "stream",
     "text": [
      "[*********************100%%**********************]  1 of 1 completed"
     ]
    },
    {
     "name": "stdout",
     "output_type": "stream",
     "text": [
      "backtest DF\n"
     ]
    },
    {
     "name": "stderr",
     "output_type": "stream",
     "text": [
      "\n"
     ]
    },
    {
     "data": {
      "text/html": [
       "<div>\n",
       "<style scoped>\n",
       "    .dataframe tbody tr th:only-of-type {\n",
       "        vertical-align: middle;\n",
       "    }\n",
       "\n",
       "    .dataframe tbody tr th {\n",
       "        vertical-align: top;\n",
       "    }\n",
       "\n",
       "    .dataframe thead th {\n",
       "        text-align: right;\n",
       "    }\n",
       "</style>\n",
       "<table border=\"1\" class=\"dataframe\">\n",
       "  <thead>\n",
       "    <tr style=\"text-align: right;\">\n",
       "      <th></th>\n",
       "      <th>Date</th>\n",
       "      <th>Open</th>\n",
       "      <th>High</th>\n",
       "      <th>Low</th>\n",
       "      <th>Close</th>\n",
       "      <th>Volume</th>\n",
       "    </tr>\n",
       "  </thead>\n",
       "  <tbody>\n",
       "    <tr>\n",
       "      <th>0</th>\n",
       "      <td>2021-05-24 00:05:00</td>\n",
       "      <td>126.010002</td>\n",
       "      <td>127.940002</td>\n",
       "      <td>125.940002</td>\n",
       "      <td>127.099998</td>\n",
       "      <td>63092900</td>\n",
       "    </tr>\n",
       "    <tr>\n",
       "      <th>288</th>\n",
       "      <td>2021-05-25 00:05:00</td>\n",
       "      <td>127.820000</td>\n",
       "      <td>128.320007</td>\n",
       "      <td>126.320000</td>\n",
       "      <td>126.900002</td>\n",
       "      <td>72009500</td>\n",
       "    </tr>\n",
       "    <tr>\n",
       "      <th>576</th>\n",
       "      <td>2021-05-26 00:05:00</td>\n",
       "      <td>126.959999</td>\n",
       "      <td>127.389999</td>\n",
       "      <td>126.419998</td>\n",
       "      <td>126.849998</td>\n",
       "      <td>56575900</td>\n",
       "    </tr>\n",
       "    <tr>\n",
       "      <th>864</th>\n",
       "      <td>2021-05-27 00:05:00</td>\n",
       "      <td>126.440002</td>\n",
       "      <td>127.639999</td>\n",
       "      <td>125.080002</td>\n",
       "      <td>125.279999</td>\n",
       "      <td>94625600</td>\n",
       "    </tr>\n",
       "    <tr>\n",
       "      <th>1152</th>\n",
       "      <td>2021-05-28 00:05:00</td>\n",
       "      <td>125.570000</td>\n",
       "      <td>125.800003</td>\n",
       "      <td>124.550003</td>\n",
       "      <td>124.610001</td>\n",
       "      <td>71311100</td>\n",
       "    </tr>\n",
       "  </tbody>\n",
       "</table>\n",
       "</div>"
      ],
      "text/plain": [
       "                    Date        Open        High         Low       Close  \\\n",
       "0    2021-05-24 00:05:00  126.010002  127.940002  125.940002  127.099998   \n",
       "288  2021-05-25 00:05:00  127.820000  128.320007  126.320000  126.900002   \n",
       "576  2021-05-26 00:05:00  126.959999  127.389999  126.419998  126.849998   \n",
       "864  2021-05-27 00:05:00  126.440002  127.639999  125.080002  125.279999   \n",
       "1152 2021-05-28 00:05:00  125.570000  125.800003  124.550003  124.610001   \n",
       "\n",
       "        Volume  \n",
       "0     63092900  \n",
       "288   72009500  \n",
       "576   56575900  \n",
       "864   94625600  \n",
       "1152  71311100  "
      ]
     },
     "execution_count": 4,
     "metadata": {},
     "output_type": "execute_result"
    }
   ],
   "source": [
    "# Stock in World\n",
    "import yfinance as yf\n",
    "data = yf.download(\"AAPL\", period = \"3y\")\n",
    "data[\"Date\"] = data.index\n",
    "data[\"Date\"] = data[\"Date\"].apply(\n",
    "        lambda dt: dt.replace(tzinfo=None)\n",
    "            )\n",
    "data.head(5)\n",
    "data = data.resample(\"5min\", on=\"Date\", label=\"right\").agg(\n",
    "            {\n",
    "                \"Open\": \"first\",\n",
    "                \"High\": \"max\",\n",
    "                \"Low\": \"min\",\n",
    "                \"Close\": \"last\",\n",
    "                \"Volume\": \"sum\",\n",
    "            }\n",
    "        ).reset_index()\n",
    "data = data.dropna()\n",
    "list_of_data = [bt.feeds.PandasData(\n",
    "                dataname=data, datetime=\"Date\", timeframe=bt.TimeFrame.Minutes\n",
    "                )]\n",
    "print('backtest DF')\n",
    "data.head(5)"
   ]
  },
  {
   "cell_type": "code",
   "execution_count": 5,
   "id": "3b021a20-317f-49e7-a261-0d8bd5863468",
   "metadata": {
    "tags": []
   },
   "outputs": [
    {
     "data": {
      "text/plain": [
       "'import backtrader as bt\\n\\n\\n\\n\\n\\nclass BaseStrategy(bt.Strategy):\\n\\n    def __init__(self, debug=True):\\n\\n        \"\"\"\\n\\n        final signal: 1 -> long, 0 -> neutral ->, -1 sell\\n\\n        \"\"\"\\n\\n        # To keep track of pending orders and buy price/commission\\n\\n        self.countBuy = 0\\n\\n        self.countSell = 0\\n\\n        self.final_signal = None\\n\\n        self.debug = debug\\n\\n\\n\\n    def log(self, txt, dt=None):\\n\\n        \"\"\"Logging function fot this strategy\"\"\"\\n\\n        if self.debug:\\n\\n            dt_day = self.datas[0].datetime.date(0)\\n\\n            dt_value = dt or self.datas[0].datetime.time(0)\\n\\n            print(\"%sT%s, %s\" % (dt_day, dt_value.isoformat(), txt))\\n\\n        else:\\n\\n            pass\\n\\n\\n\\n    def notify_order(self, order):\\n\\n        if order.status in [order.Submitted, order.Accepted]:\\n\\n            # Buy/Sell order submitted/accepted to/by broker - Nothing to do\\n\\n            return\\n\\n        if order.status in [order.Completed]:\\n\\n            if order.isbuy():\\n\\n                if self.countSell > 0:\\n\\n                    info_trade = \"CLOSE SELL\"\\n\\n                    self.countSell -= 1\\n\\n                else:\\n\\n                    info_trade = \"BUY EXECUTED\"\\n\\n                    self.countBuy += 1\\n\\n                self.log(\\n\\n                    f\"{info_trade}, Price: %.2f, Cost: %.2f, Comm %.2ff\"\\n\\n                    % (\\n\\n                        order.executed.price,\\n\\n                        order.executed.value,\\n\\n                        order.executed.comm\\n\\n                    )\\n\\n                )\\n\\n            else:\\n\\n                if self.countBuy > 0:\\n\\n                    info_trade = \"CLOSE BUY\"\\n\\n                    self.countBuy -= 1\\n\\n                else:\\n\\n                    info_trade = \"SELL EXECUTED\"\\n\\n                    self.countSell += 1\\n\\n                self.log(\\n\\n                    f\"{info_trade}, Price: %.2f, Cost: %.2f, Comm %.2f\"\\n\\n                    % (\\n\\n                        order.executed.price,\\n\\n                        order.executed.value,\\n\\n                        order.executed.comm\\n\\n                    )\\n\\n                )\\n\\n\\n\\n            self.bar_executed = len(self)\\n\\n\\n\\n        elif order.status in [order.Canceled, order.Margin, order.Rejected]:\\n\\n            self.log(\"Order Canceled/Margin/Rejected\")\\n\\n\\n\\n        # Write down: no pending order\\n\\n        self.order = None\\n\\n\\n\\n    def execute(self) -> int:\\n\\n        \"\"\"\\n\\n        Return final signal: 1 -> long, 0 -> neutral ->, -1 sell\\n\\n        None if execute do not have any signal yet.\\n\\n        \"\"\"\\n\\n        raise NotImplementedError\\n\\n\\n\\n    def next(self):\\n\\n        cur_time = self.data.datetime.time(0)\\n\\n        if cur_time.hour < 10 or cur_time.hour >= 15:\\n\\n            # Only trade after 9am\\n\\n            return\\n\\n        if cur_time.hour == 12:\\n\\n            # Sleep time\\n\\n            return\\n\\n\\n\\n        if cur_time.hour == 14 and cur_time.minute >= 25:\\n\\n            # Close end of the day\\n\\n            if self.position:\\n\\n                self.order = self.close()\\n\\n            return\\n\\n\\n\\n        self.final_signal = self.execute()\\n\\n        if self.final_signal is None:\\n\\n            return\\n\\n\\n\\n        if self.final_signal > 0:\\n\\n            if self.position:\\n\\n                if self.countSell:\\n\\n                    self.order = self.close()\\n\\n            else:\\n\\n                self.order = self.buy()\\n\\n        elif self.final_signal < 0:\\n\\n            if self.position:\\n\\n                if self.countBuy:\\n\\n                    self.order = self.close()\\n\\n            else:\\n\\n                self.order = self.sell()\\n\\n\\n\\n                \\n\\nclass MovingAverageStrategy(BaseStrategy):\\n\\n\\n\\n    def __init__(self, *args, **kwargs):\\n\\n        super().__init__(*args, **kwargs)\\n\\n        self.sma = bt.ind.SMA(self.data.close, period=15)\\n\\n\\n\\n    def execute(self):\\n\\n        if self.sma > self.data.close:\\n\\n            return 1\\n\\n        elif self.sma < self.data.close:\\n\\n            return -1'"
      ]
     },
     "execution_count": 5,
     "metadata": {},
     "output_type": "execute_result"
    }
   ],
   "source": [
    "with open(\"base_strategy.py\", \"r\") as f:\n",
    "    base_strats = \"\\n\".join(f.readlines())\n",
    "base_strats"
   ]
  },
  {
   "cell_type": "markdown",
   "id": "199e7a57",
   "metadata": {},
   "source": [
    "# My code"
   ]
  },
  {
   "cell_type": "code",
   "execution_count": 6,
   "id": "8102d1f9",
   "metadata": {},
   "outputs": [],
   "source": [
    "from typing import Union\n",
    "\n",
    "def init_cerebro_object(strategy, list_of_data, strategy_params = None, verbose = False, stake = Union[int, None], cash = Union[int, None]):\n",
    "    cerebro = bt.Cerebro()\n",
    "\n",
    "    # Adding strategy\n",
    "    cerebro.addstrategy(strategy = strategy)\n",
    "\n",
    "    # Adding data\n",
    "    for data in list_of_data:\n",
    "        cerebro.adddata(data)\n",
    "\n",
    "    # Adding initial cash\n",
    "    cerebro.broker.set_cash(cash)\n",
    "\n",
    "    return cerebro\n",
    "\n",
    "\n",
    "\n",
    "list_of_data = [bt.feeds.PandasData(\n",
    "                dataname=data, datetime=\"Date\", timeframe=bt.TimeFrame.Minutes\n",
    "                )]\n",
    "\n",
    "def run_cerebro(strategy, list_data):\n",
    "    cerebro = init_cerebro_object(strategy=strategy, list_of_data=list_data, \n",
    "                                    strategy_params=None, verbose=False, \n",
    "                                    stake=100, cash=20_000)\n",
    "    thestrats = cerebro.run()\n",
    "    return thestrats"
   ]
  },
  {
   "cell_type": "code",
   "execution_count": 7,
   "id": "e73a6365-9da8-48d8-b070-d7af5507d26d",
   "metadata": {},
   "outputs": [],
   "source": [
    "import openai\n",
    "import re\n",
    "\n",
    "\n",
    "def chat_query(*args):\n",
    "\n",
    "    client = openai.OpenAI(\n",
    "            base_url = \"https://api.endpoints.anyscale.com/v1\",\n",
    "            api_key=\"esecret_mxhfybv3ehvz954hihatkyqh24\"\n",
    "            )\n",
    "\n",
    "    chat_completion = client.chat.completions.create(\n",
    "        model = \"meta-llama/Meta-Llama-3-70B-Instruct\",\n",
    "        messages = [\n",
    "            {\n",
    "                \"role\": \"user\", \"content\": args[0]\n",
    "            }\n",
    "        ],\n",
    "        temperature = 0.1\n",
    "    )\n",
    "    return chat_completion.choices[0].message.content\n",
    "\n",
    "def chat_revise(code, revise = Union[str, None]):\n",
    "    if revise:\n",
    "        revise_system = f\"\"\"\n",
    "        You are a python developer that intent to make a workable strategy from human requirement.\n",
    "        Your task is to create a new BackTestStrategy that follow below msg\n",
    "        Note: Only return class strategy with your change in execute function\n",
    "\n",
    "        Please revise the below script based on requests: {revise}\n",
    "        {code}    \n",
    "        \"\"\"\n",
    "        return chat_query(revise_system)\n",
    "    else:\n",
    "        return code\n",
    "\n",
    "\n",
    "def extract_error_message(error):\n",
    "    error_lines = str(error).split('\\n')\n",
    "    for line in error_lines:\n",
    "        if 'Error' in line or 'Exception' in line:\n",
    "            return line.strip()\n",
    "    return error_lines[-1].strip()\n",
    "\n",
    "def check_hold_counter(code):\n",
    "    code_base = str(code).split('\\n')\n",
    "    for c in code_base:\n",
    "        if 'hold_counter' not in c or 'position' not in c:\n",
    "            return True\n",
    "    \n",
    "    return False\n",
    "\n",
    "\n",
    "\n",
    "def auto_debug_code(code,data, max_attempts=5):\n",
    "    attempt = 0\n",
    "    while attempt < max_attempts:\n",
    "        try:\n",
    "\n",
    "            if check_hold_counter(code):\n",
    "                revise = \"I don't see where you close the position after hold_counter equal 0\"\n",
    "                code = chat_revise(code, revise)\n",
    "            \n",
    "            exec(get_code_from_text(code), globals())\n",
    "            thestrats = run_cerebro(strategy = BackTestStrategy, list_data = data)\n",
    "            print(\"Code executed successfully!\")\n",
    "            return code\n",
    "\n",
    "        except Exception as e:\n",
    "            error_message = extract_error_message(e)\n",
    "            print(f\"Attempt {attempt+1} failed with error: {error_message}\")\n",
    "            \n",
    "            debug_prompt = f\"\"\"\n",
    "            You are a Python developer and try to fixing the error when the code given. \n",
    "            The following code has an error:\\n\\n{code}\\n\\nError: {error_message}\\n\\nPlease fix the error.\n",
    "            \n",
    "            Just fix the code following instruction:\n",
    "                And below is the structure of the codebase, you can read the MovingAverageStrategy as an example to make your strategy but only change the `execute` function.\n",
    "                Please name your class strategy as default name is BackTestStrategy\n",
    "                ----------------------------\n",
    "                \"{base_strats}\"\n",
    "            \"\"\"\n",
    "            # code = generate_code(debug_prompt)\n",
    "\n",
    "            code = chat_query(debug_prompt)\n",
    "            print(f\"Generated new code:\\n{code}\\n\")\n",
    "            \n",
    "            attempt += 1\n",
    "            \n",
    "    print(\"Maximum attempts reached. Code could not be debugged.\")\n",
    "    return None\n",
    "\n",
    "\n",
    "def python_code_generate(*args):\n",
    "    system = args[0]\n",
    "    data = args[1]\n",
    "    try_script = chat_query(system)\n",
    "    try:\n",
    "        fixed_script = auto_debug_code(try_script, data, max_attempts=5)\n",
    "        if fixed_script is None:\n",
    "            raise Exception('Code could not be fixed!!!')\n",
    "    except Exception as e:\n",
    "        print(\"Return the first generate code.\")\n",
    "        fixed_script = try_script\n",
    "    \n",
    "    return fixed_script\n",
    "\n",
    "\n"
   ]
  },
  {
   "cell_type": "code",
   "execution_count": 8,
   "id": "6a15af9f",
   "metadata": {},
   "outputs": [
    {
     "name": "stdout",
     "output_type": "stream",
     "text": [
      "Code executed successfully!\n",
      "Here is the revised `BackTestStrategy` class that closes the position when `hold_counter` equals 0:\n",
      "```\n",
      "class BackTestStrategy(BaseStrategy):\n",
      "    def __init__(self, *args, **kwargs):\n",
      "        super().__init__(*args, **kwargs)\n",
      "        self.bb = bt.ind.BollingerBands(self.data.close, period=20, devfactor=2)\n",
      "        self.hold_counter = 0\n",
      "\n",
      "    def execute(self):\n",
      "        if self.data.close > self.bb.bbh:\n",
      "            if self.hold_counter == 0:\n",
      "                self.buy()\n",
      "                self.hold_counter = 5  # hold for 5 bars\n",
      "            return 1\n",
      "        elif self.data.close < self.bb.bbl:\n",
      "            if self.hold_counter == 0:\n",
      "                self.sell()\n",
      "                self.hold_counter = 5  # hold for 5 bars\n",
      "            return -1\n",
      "        else:\n",
      "            self.hold_counter -= 1\n",
      "            if self.hold_counter == 0:\n",
      "                self.close()  # close the position\n",
      "            return 0\n",
      "```\n",
      "Here's what's changed:\n",
      "\n",
      "* I added a `hold_counter` attribute to the strategy, initialized to 0.\n",
      "* When a buy or sell signal is generated, I set `hold_counter` to 5, indicating that the position should be held for 5 bars.\n",
      "* In the `else` clause, I decrement `hold_counter` by 1 each bar.\n",
      "* When `hold_counter` reaches 0, I call `self.close()` to close the position.\n",
      "\n",
      "Note that you can adjust the `hold_counter` value to change the holding period.\n"
     ]
    }
   ],
   "source": [
    "prompt = \"Please create a strategy that following buy and sell signal of Golden Cross strategy.\"\n",
    "prompt = \"Please create a strategy that buy position when MA1 > MA50, and close position after 10 cycle.\"\n",
    "prompt = \"Please create a strategy that buy when RSI is below 50 and sell when RSI is above 80.\"\n",
    "prompt = \"Please create a strategy that buy when above upperband and below lowerband of Bollinger Bands\"\n",
    "\n",
    "system = f\"\"\"\n",
    "You are a python developer that intent to make a workable strategy from human requirement.\n",
    "Your task is to create a new BackTestStrategy that follow below msg\n",
    "Note: Only return class strategy and change `execute` function only, nothing else\n",
    "\n",
    "\n",
    "{prompt}\n",
    "And below is the structure of the codebase, you can read the MovingAverageStrategy as an example to make your strategy but only change the `execute` function.\n",
    "Please name your class strategy as default name is BackTestStrategy\n",
    "----------------------------\n",
    "\"{base_strats}\"\n",
    "\"\"\"\n",
    "\n",
    "code_script = python_code_generate(system, list_of_data)\n",
    "print(code_script)"
   ]
  },
  {
   "cell_type": "markdown",
   "id": "47d5708d",
   "metadata": {},
   "source": [
    "# End my code"
   ]
  },
  {
   "cell_type": "code",
   "execution_count": 9,
   "id": "d62ca415-4295-454a-b88d-41051a16a26a",
   "metadata": {
    "tags": []
   },
   "outputs": [],
   "source": [
    "# exec(get_code_from_text(final_script))\n",
    "exec(get_code_from_text(code_script))"
   ]
  },
  {
   "cell_type": "code",
   "execution_count": 10,
   "id": "da3c76b5-6f97-4322-a389-ce3c54c3718e",
   "metadata": {
    "tags": []
   },
   "outputs": [],
   "source": [
    "list_of_data = [bt.feeds.PandasData(\n",
    "                dataname=data, datetime=\"Date\", timeframe=bt.TimeFrame.Minutes\n",
    "                )]\n",
    "cerebro = init_cerebro_object(strategy=BackTestStrategy, list_of_data=list_of_data, strategy_params=None, verbose=False, stake=100, cash=20_000)\n",
    "thestrats = cerebro.run()\n",
    "thestrat = thestrats[0]"
   ]
  },
  {
   "cell_type": "code",
   "execution_count": 11,
   "id": "826c4d16-ee5c-488d-9ad4-bab8cbddcf01",
   "metadata": {
    "tags": []
   },
   "outputs": [
    {
     "name": "stdout",
     "output_type": "stream",
     "text": [
      "Final Portfolio Value: 20000.00\n",
      "Total point return:  0.0\n"
     ]
    }
   ],
   "source": [
    "# Print out the final result\n",
    "print(\"Final Portfolio Value: %.2f\" % cerebro.broker.getvalue())\n",
    "print(\n",
    "    \"Total point return: \",\n",
    "    (cerebro.broker.getvalue() - cerebro.broker.startingcash),\n",
    ")"
   ]
  },
  {
   "cell_type": "code",
   "execution_count": 12,
   "id": "670a15ae-ca6a-42c5-9510-53599a344e94",
   "metadata": {
    "tags": []
   },
   "outputs": [],
   "source": [
    "figs = cerebro.plot(\n",
    "        iplot=False, \n",
    "        style=\"pincandle\", width=60 * 10, height=40 * 10, \n",
    "        # dpi=1000\n",
    "    )"
   ]
  },
  {
   "cell_type": "code",
   "execution_count": 13,
   "id": "191f4863-eb80-4553-b648-f7aefbc25abd",
   "metadata": {},
   "outputs": [],
   "source": [
    "for each in thestrat.analyzers:\n",
    "    each.print()"
   ]
  },
  {
   "cell_type": "code",
   "execution_count": 14,
   "id": "9c31f075",
   "metadata": {},
   "outputs": [
    {
     "ename": "",
     "evalue": "",
     "output_type": "error",
     "traceback": [
      "\u001b[1;31mThe Kernel crashed while executing code in the current cell or a previous cell. \n",
      "\u001b[1;31mPlease review the code in the cell(s) to identify a possible cause of the failure. \n",
      "\u001b[1;31mClick <a href='https://aka.ms/vscodeJupyterKernelCrash'>here</a> for more info. \n",
      "\u001b[1;31mView Jupyter <a href='command:jupyter.viewOutput'>log</a> for further details."
     ]
    }
   ],
   "source": [
    "figs = cerebro.plot(\n",
    "        iplot=False, style=\"pincandle\", width=32 * 10, height=18 * 10, dpi=300\n",
    "    )"
   ]
  },
  {
   "cell_type": "code",
   "execution_count": null,
   "id": "35b0a3a3-c8c7-4025-baa5-123f203a2f9c",
   "metadata": {},
   "outputs": [],
   "source": []
  }
 ],
 "metadata": {
  "kernelspec": {
   "display_name": "Python 3 (ipykernel)",
   "language": "python",
   "name": "python3"
  },
  "language_info": {
   "codemirror_mode": {
    "name": "ipython",
    "version": 3
   },
   "file_extension": ".py",
   "mimetype": "text/x-python",
   "name": "python",
   "nbconvert_exporter": "python",
   "pygments_lexer": "ipython3",
   "version": "3.11.5"
  }
 },
 "nbformat": 4,
 "nbformat_minor": 5
}
